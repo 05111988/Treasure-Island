{
 "cells": [
  {
   "cell_type": "code",
   "execution_count": 7,
   "id": "2f153740-0764-4edd-8888-982352d5e8bf",
   "metadata": {},
   "outputs": [
    {
     "name": "stdin",
     "output_type": "stream",
     "text": [
      "enter your marks 2\n"
     ]
    },
    {
     "name": "stdout",
     "output_type": "stream",
     "text": [
      "poor\n"
     ]
    }
   ],
   "source": [
    "marks = int(input(\"enter your marks\"))\n",
    "if marks>50:\n",
    "    print(\"excellent\")\n",
    "elif marks<20:\n",
    "    print(\"poor\")\n",
    "else:\n",
    "    print(\"need more practice\")"
   ]
  },
  {
   "cell_type": "code",
   "execution_count": 2,
   "id": "f8863383-9583-4b0c-8a54-80b9ff8aba49",
   "metadata": {},
   "outputs": [
    {
     "name": "stdout",
     "output_type": "stream",
     "text": [
      "1\n"
     ]
    }
   ],
   "source": [
    "print(10 % 3)"
   ]
  },
  {
   "cell_type": "code",
   "execution_count": 3,
   "id": "a94a9b4c-b4e7-45c2-adac-04d465818249",
   "metadata": {},
   "outputs": [
    {
     "name": "stdin",
     "output_type": "stream",
     "text": [
      "Enter the number :  90\n"
     ]
    },
    {
     "name": "stdout",
     "output_type": "stream",
     "text": [
      "number is even\n"
     ]
    }
   ],
   "source": [
    "number = int(input(\"Enter the number : \"))\n",
    "if number %2 == 0:\n",
    "    print(\"number is even\")\n",
    "else:\n",
    "    print(\"number is odd\")"
   ]
  },
  {
   "cell_type": "code",
   "execution_count": 12,
   "id": "13f31268-e378-451c-9d69-0711311ab298",
   "metadata": {},
   "outputs": [
    {
     "name": "stdout",
     "output_type": "stream",
     "text": [
      "Welcome to the coller roaster ride.\n"
     ]
    },
    {
     "name": "stdin",
     "output_type": "stream",
     "text": [
      "Enter your height: \n",
      " 190\n"
     ]
    },
    {
     "name": "stdout",
     "output_type": "stream",
     "text": [
      "you can enjoy the ride.\n"
     ]
    },
    {
     "name": "stdin",
     "output_type": "stream",
     "text": [
      "Enter your age:  34\n"
     ]
    },
    {
     "name": "stdout",
     "output_type": "stream",
     "text": [
      "Adult tickets are $12.\n"
     ]
    },
    {
     "name": "stdin",
     "output_type": "stream",
     "text": [
      "Do you want a photo? Type for Y for yes and N for no.\n",
      " Y\n"
     ]
    },
    {
     "name": "stdout",
     "output_type": "stream",
     "text": [
      "your final bill is $15\n"
     ]
    }
   ],
   "source": [
    "print(\"Welcome to the coller roaster ride.\")\n",
    "height = int(input(\"Enter your height: \\n\"))\n",
    "bill = 0\n",
    "if height>120:\n",
    "    print(\"you can enjoy the ride.\")\n",
    "    age = int(input(\"Enter your age: \"))\n",
    "    if age <12:\n",
    "        bill = 5\n",
    "        print(\"Child tickets are $5.\")\n",
    "    elif age <= 18:\n",
    "        bill = 7\n",
    "        print(\"Youth tickets are $7.\")\n",
    "    else:\n",
    "        bill = 12\n",
    "        print(\"Adult tickets are $12.\")\n",
    "    wants_photo = input(\"Do you want a photo? Type for Y for yes and N for no.\\n\")\n",
    "    if wants_photo == \"Y\":\n",
    "        bill += 3\n",
    "        print(f\"your final bill is ${bill}\")\n",
    "else :\n",
    "    print(\"sorry you are not eligible\")"
   ]
  },
  {
   "cell_type": "code",
   "execution_count": 25,
   "id": "5c169db1-321c-4b4c-aaff-0d1357852416",
   "metadata": {},
   "outputs": [
    {
     "name": "stdout",
     "output_type": "stream",
     "text": [
      "Welcome to python pizza delivery\n"
     ]
    },
    {
     "name": "stdin",
     "output_type": "stream",
     "text": [
      "What size pizza do you want? S, M, orL: \n",
      " L\n",
      "Do you want pepperoni on pizza? Y or N: \n",
      " Y\n",
      "Do you want extra cheese? Y or N: \n",
      " Y\n"
     ]
    },
    {
     "name": "stdout",
     "output_type": "stream",
     "text": [
      "You have to pay $25.\n",
      "your final bill is $27\n",
      "your final bill is $32\n"
     ]
    }
   ],
   "source": [
    "print(\"Welcome to python pizza delivery\")\n",
    "size = input(\"What size pizza do you want? S, M, orL: \\n\")\n",
    "pepperoni = input(\"Do you want pepperoni on pizza? Y or N: \\n\")\n",
    "extra_cheese = input(\"Do you want extra cheese? Y or N: \\n\")\n",
    "bill = 0\n",
    "if size == \"S\":\n",
    "    bill += 15\n",
    "    print(\"You have to pay $15.\")\n",
    "elif size == \"M\":\n",
    "    bill += 20\n",
    "    print(\"You have to pay $20.\")\n",
    "elif size == \"L\":\n",
    "    bill += 25\n",
    "    print(\"You have to pay $25.\")\n",
    "    if pepperoni == \"Y\":\n",
    "        bill += 2\n",
    "        print(f\"your final bill is ${bill}\")\n",
    "    else:\n",
    "        print(\"no need\")\n",
    "    if extra_cheese == \"Y\":\n",
    "        bill += 5\n",
    "        print(f\"your final bill is ${bill}\")\n",
    "else:\n",
    "    Print(\"no need\")\n",
    "       \n",
    "    \n",
    "\n"
   ]
  },
  {
   "cell_type": "code",
   "execution_count": 37,
   "id": "4ad22d1d-01a4-40e7-8680-4bbc92ed09e6",
   "metadata": {},
   "outputs": [
    {
     "name": "stdout",
     "output_type": "stream",
     "text": [
      "Welcome to Treasure Island>\n",
      "Your mission is to find the treasure\n"
     ]
    },
    {
     "name": "stdin",
     "output_type": "stream",
     "text": [
      "You are at a cross road. Where do you want to go?? Type \"left\" or \"right\".\n",
      " left\n",
      "you've come to a lake, there is an island in the middle of the lake.Type \"wait\" to wait for a boat. Type \"swim\" to swim across. wait\n",
      "You arrived at the island unharmed. There is a house with 3 doors. one red, one yellow, or one blue. Which colour do you choose? yellow\n"
     ]
    },
    {
     "name": "stdout",
     "output_type": "stream",
     "text": [
      "you found the treasure. YOU WIN!\n"
     ]
    }
   ],
   "source": [
    "print(\"Welcome to Treasure Island>\")\n",
    "print(\"Your mission is to find the treasure\")\n",
    "choice1 = input('You are at a cross road. Where do you want to go?? Type \"left\" or \"right\".\\n')\n",
    "if choice1 == \"left\":\n",
    "     choice2 = input('you\\'ve come to a lake, there is an island in the middle of the lake.Type \"wait\" to wait for a boat. Type \"swim\" to swim across.')\n",
    "     if choice2 == \"wait\":\n",
    "         choice3 = input(\"You arrived at the island unharmed. There is a house with 3 doors. one red, one yellow, or one blue. Which colour do you choose?\")\n",
    "    \n",
    "         if choice3 == \"red\":\n",
    "             print(\"room is full of fire. GAME OVER\")\n",
    "         elif choice3 == \"yellow\":\n",
    "             print(\"you found the treasure. YOU WIN!\")\n",
    "         elif choice3 == \"blue\":\n",
    "             print(\"you enter the room of beasts. GAMEOVER\")\n",
    "         else:\n",
    "             print(\"Wrong door chosen. GAME OVER\")\n",
    "     else:\n",
    "         print(\"you caught by an monster. GAMEOVER\")\n",
    "else:\n",
    "    print(\"You fell in a hole. GAME OVER\")\n",
    "    \n"
   ]
  },
  {
   "cell_type": "code",
   "execution_count": null,
   "id": "9a764c35-84ca-4616-bff8-c37031d2e1f8",
   "metadata": {},
   "outputs": [],
   "source": []
  }
 ],
 "metadata": {
  "kernelspec": {
   "display_name": "Python 3 (ipykernel)",
   "language": "python",
   "name": "python3"
  },
  "language_info": {
   "codemirror_mode": {
    "name": "ipython",
    "version": 3
   },
   "file_extension": ".py",
   "mimetype": "text/x-python",
   "name": "python",
   "nbconvert_exporter": "python",
   "pygments_lexer": "ipython3",
   "version": "3.13.3"
  }
 },
 "nbformat": 4,
 "nbformat_minor": 5
}
